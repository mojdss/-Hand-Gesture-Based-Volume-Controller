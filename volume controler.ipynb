{
  "nbformat": 4,
  "nbformat_minor": 0,
  "metadata": {
    "colab": {
      "provenance": [],
      "gpuType": "T4"
    },
    "kernelspec": {
      "name": "python3",
      "display_name": "Python 3"
    },
    "language_info": {
      "name": "python"
    },
    "accelerator": "GPU",
    "widgets": {
      "application/vnd.jupyter.widget-state+json": {
        "8a70cfea53484429852c42675a630b84": {
          "model_module": "@jupyter-widgets/controls",
          "model_name": "HTMLModel",
          "model_module_version": "1.5.0",
          "state": {
            "_dom_classes": [],
            "_model_module": "@jupyter-widgets/controls",
            "_model_module_version": "1.5.0",
            "_model_name": "HTMLModel",
            "_view_count": null,
            "_view_module": "@jupyter-widgets/controls",
            "_view_module_version": "1.5.0",
            "_view_name": "HTMLView",
            "description": "",
            "description_tooltip": null,
            "layout": "IPY_MODEL_ddb72f3006444a66bbcdd23767336afa",
            "placeholder": "​",
            "style": "IPY_MODEL_cf5e02826ab3423b86bd42942226b15c",
            "value": "\n<audio id=\"audioPlayer\" src=\"/content/Osad3eny_HellMakers.Com.mp3\" loop controls style=\"width:100%;\">\nYour browser does not support the audio element.\n</audio>\n"
          }
        },
        "ddb72f3006444a66bbcdd23767336afa": {
          "model_module": "@jupyter-widgets/base",
          "model_name": "LayoutModel",
          "model_module_version": "1.2.0",
          "state": {
            "_model_module": "@jupyter-widgets/base",
            "_model_module_version": "1.2.0",
            "_model_name": "LayoutModel",
            "_view_count": null,
            "_view_module": "@jupyter-widgets/base",
            "_view_module_version": "1.2.0",
            "_view_name": "LayoutView",
            "align_content": null,
            "align_items": null,
            "align_self": null,
            "border": null,
            "bottom": null,
            "display": null,
            "flex": null,
            "flex_flow": null,
            "grid_area": null,
            "grid_auto_columns": null,
            "grid_auto_flow": null,
            "grid_auto_rows": null,
            "grid_column": null,
            "grid_gap": null,
            "grid_row": null,
            "grid_template_areas": null,
            "grid_template_columns": null,
            "grid_template_rows": null,
            "height": null,
            "justify_content": null,
            "justify_items": null,
            "left": null,
            "margin": null,
            "max_height": null,
            "max_width": null,
            "min_height": null,
            "min_width": null,
            "object_fit": null,
            "object_position": null,
            "order": null,
            "overflow": null,
            "overflow_x": null,
            "overflow_y": null,
            "padding": null,
            "right": null,
            "top": null,
            "visibility": null,
            "width": null
          }
        },
        "cf5e02826ab3423b86bd42942226b15c": {
          "model_module": "@jupyter-widgets/controls",
          "model_name": "DescriptionStyleModel",
          "model_module_version": "1.5.0",
          "state": {
            "_model_module": "@jupyter-widgets/controls",
            "_model_module_version": "1.5.0",
            "_model_name": "DescriptionStyleModel",
            "_view_count": null,
            "_view_module": "@jupyter-widgets/base",
            "_view_module_version": "1.2.0",
            "_view_name": "StyleView",
            "description_width": ""
          }
        },
        "40808a443a7b4c4caa229294be3123c6": {
          "model_module": "@jupyter-widgets/controls",
          "model_name": "ButtonModel",
          "model_module_version": "1.5.0",
          "state": {
            "_dom_classes": [],
            "_model_module": "@jupyter-widgets/controls",
            "_model_module_version": "1.5.0",
            "_model_name": "ButtonModel",
            "_view_count": null,
            "_view_module": "@jupyter-widgets/controls",
            "_view_module_version": "1.5.0",
            "_view_name": "ButtonView",
            "button_style": "",
            "description": "Start Audio (Click Me)",
            "disabled": false,
            "icon": "",
            "layout": "IPY_MODEL_40871e0235de413ca44df5ba02c78974",
            "style": "IPY_MODEL_fe1424655fef404ebcd2c8cad996377c",
            "tooltip": ""
          }
        },
        "40871e0235de413ca44df5ba02c78974": {
          "model_module": "@jupyter-widgets/base",
          "model_name": "LayoutModel",
          "model_module_version": "1.2.0",
          "state": {
            "_model_module": "@jupyter-widgets/base",
            "_model_module_version": "1.2.0",
            "_model_name": "LayoutModel",
            "_view_count": null,
            "_view_module": "@jupyter-widgets/base",
            "_view_module_version": "1.2.0",
            "_view_name": "LayoutView",
            "align_content": null,
            "align_items": null,
            "align_self": null,
            "border": null,
            "bottom": null,
            "display": null,
            "flex": null,
            "flex_flow": null,
            "grid_area": null,
            "grid_auto_columns": null,
            "grid_auto_flow": null,
            "grid_auto_rows": null,
            "grid_column": null,
            "grid_gap": null,
            "grid_row": null,
            "grid_template_areas": null,
            "grid_template_columns": null,
            "grid_template_rows": null,
            "height": null,
            "justify_content": null,
            "justify_items": null,
            "left": null,
            "margin": null,
            "max_height": null,
            "max_width": null,
            "min_height": null,
            "min_width": null,
            "object_fit": null,
            "object_position": null,
            "order": null,
            "overflow": null,
            "overflow_x": null,
            "overflow_y": null,
            "padding": null,
            "right": null,
            "top": null,
            "visibility": null,
            "width": null
          }
        },
        "fe1424655fef404ebcd2c8cad996377c": {
          "model_module": "@jupyter-widgets/controls",
          "model_name": "ButtonStyleModel",
          "model_module_version": "1.5.0",
          "state": {
            "_model_module": "@jupyter-widgets/controls",
            "_model_module_version": "1.5.0",
            "_model_name": "ButtonStyleModel",
            "_view_count": null,
            "_view_module": "@jupyter-widgets/base",
            "_view_module_version": "1.2.0",
            "_view_name": "StyleView",
            "button_color": null,
            "font_weight": ""
          }
        },
        "4f93f2b169564a6ebc7e21411c19b8f1": {
          "model_module": "@jupyter-widgets/controls",
          "model_name": "ImageModel",
          "model_module_version": "1.5.0",
          "state": {
            "_dom_classes": [],
            "_model_module": "@jupyter-widgets/controls",
            "_model_module_version": "1.5.0",
            "_model_name": "ImageModel",
            "_view_count": null,
            "_view_module": "@jupyter-widgets/controls",
            "_view_module_version": "1.5.0",
            "_view_name": "ImageView",
            "format": "jpeg",
            "height": "",
            "layout": "IPY_MODEL_5d1d7c6034254d0295ddc65ae6ececba",
            "width": ""
          }
        },
        "5d1d7c6034254d0295ddc65ae6ececba": {
          "model_module": "@jupyter-widgets/base",
          "model_name": "LayoutModel",
          "model_module_version": "1.2.0",
          "state": {
            "_model_module": "@jupyter-widgets/base",
            "_model_module_version": "1.2.0",
            "_model_name": "LayoutModel",
            "_view_count": null,
            "_view_module": "@jupyter-widgets/base",
            "_view_module_version": "1.2.0",
            "_view_name": "LayoutView",
            "align_content": null,
            "align_items": null,
            "align_self": null,
            "border": null,
            "bottom": null,
            "display": null,
            "flex": null,
            "flex_flow": null,
            "grid_area": null,
            "grid_auto_columns": null,
            "grid_auto_flow": null,
            "grid_auto_rows": null,
            "grid_column": null,
            "grid_gap": null,
            "grid_row": null,
            "grid_template_areas": null,
            "grid_template_columns": null,
            "grid_template_rows": null,
            "height": null,
            "justify_content": null,
            "justify_items": null,
            "left": null,
            "margin": null,
            "max_height": null,
            "max_width": null,
            "min_height": null,
            "min_width": null,
            "object_fit": null,
            "object_position": null,
            "order": null,
            "overflow": null,
            "overflow_x": null,
            "overflow_y": null,
            "padding": null,
            "right": null,
            "top": null,
            "visibility": null,
            "width": null
          }
        },
        "f182f09dbefc48038ac3c7dda364db46": {
          "model_module": "@jupyter-widgets/output",
          "model_name": "OutputModel",
          "model_module_version": "1.0.0",
          "state": {
            "_dom_classes": [],
            "_model_module": "@jupyter-widgets/output",
            "_model_module_version": "1.0.0",
            "_model_name": "OutputModel",
            "_view_count": null,
            "_view_module": "@jupyter-widgets/output",
            "_view_module_version": "1.0.0",
            "_view_name": "OutputView",
            "layout": "IPY_MODEL_cfcaa0fb2863477e86287a13f0567a96",
            "msg_id": "",
            "outputs": [
              {
                "output_type": "display_data",
                "data": {
                  "text/plain": "<IPython.core.display.Javascript object>",
                  "application/javascript": "document.getElementById('audioPlayer').volume = 0.25;"
                },
                "metadata": {}
              }
            ]
          }
        },
        "cfcaa0fb2863477e86287a13f0567a96": {
          "model_module": "@jupyter-widgets/base",
          "model_name": "LayoutModel",
          "model_module_version": "1.2.0",
          "state": {
            "_model_module": "@jupyter-widgets/base",
            "_model_module_version": "1.2.0",
            "_model_name": "LayoutModel",
            "_view_count": null,
            "_view_module": "@jupyter-widgets/base",
            "_view_module_version": "1.2.0",
            "_view_name": "LayoutView",
            "align_content": null,
            "align_items": null,
            "align_self": null,
            "border": null,
            "bottom": null,
            "display": null,
            "flex": null,
            "flex_flow": null,
            "grid_area": null,
            "grid_auto_columns": null,
            "grid_auto_flow": null,
            "grid_auto_rows": null,
            "grid_column": null,
            "grid_gap": null,
            "grid_row": null,
            "grid_template_areas": null,
            "grid_template_columns": null,
            "grid_template_rows": null,
            "height": null,
            "justify_content": null,
            "justify_items": null,
            "left": null,
            "margin": null,
            "max_height": null,
            "max_width": null,
            "min_height": null,
            "min_width": null,
            "object_fit": null,
            "object_position": null,
            "order": null,
            "overflow": null,
            "overflow_x": null,
            "overflow_y": null,
            "padding": null,
            "right": null,
            "top": null,
            "visibility": null,
            "width": null
          }
        }
      }
    }
  },
  "cells": [
    {
      "cell_type": "code",
      "source": [
        "!pip install mediapipe"
      ],
      "metadata": {
        "colab": {
          "base_uri": "https://localhost:8080/"
        },
        "id": "4KIkvTxcnOQW",
        "outputId": "9a6fe8e3-72fb-4998-8acb-e40e38c3f45f"
      },
      "execution_count": 1,
      "outputs": [
        {
          "output_type": "stream",
          "name": "stdout",
          "text": [
            "Collecting mediapipe\n",
            "  Downloading mediapipe-0.10.21-cp311-cp311-manylinux_2_28_x86_64.whl.metadata (9.7 kB)\n",
            "Requirement already satisfied: absl-py in /usr/local/lib/python3.11/dist-packages (from mediapipe) (1.4.0)\n",
            "Requirement already satisfied: attrs>=19.1.0 in /usr/local/lib/python3.11/dist-packages (from mediapipe) (25.1.0)\n",
            "Requirement already satisfied: flatbuffers>=2.0 in /usr/local/lib/python3.11/dist-packages (from mediapipe) (25.2.10)\n",
            "Requirement already satisfied: jax in /usr/local/lib/python3.11/dist-packages (from mediapipe) (0.4.33)\n",
            "Requirement already satisfied: jaxlib in /usr/local/lib/python3.11/dist-packages (from mediapipe) (0.4.33)\n",
            "Requirement already satisfied: matplotlib in /usr/local/lib/python3.11/dist-packages (from mediapipe) (3.10.0)\n",
            "Requirement already satisfied: numpy<2 in /usr/local/lib/python3.11/dist-packages (from mediapipe) (1.26.4)\n",
            "Requirement already satisfied: opencv-contrib-python in /usr/local/lib/python3.11/dist-packages (from mediapipe) (4.11.0.86)\n",
            "Requirement already satisfied: protobuf<5,>=4.25.3 in /usr/local/lib/python3.11/dist-packages (from mediapipe) (4.25.6)\n",
            "Collecting sounddevice>=0.4.4 (from mediapipe)\n",
            "  Downloading sounddevice-0.5.1-py3-none-any.whl.metadata (1.4 kB)\n",
            "Requirement already satisfied: sentencepiece in /usr/local/lib/python3.11/dist-packages (from mediapipe) (0.2.0)\n",
            "Requirement already satisfied: CFFI>=1.0 in /usr/local/lib/python3.11/dist-packages (from sounddevice>=0.4.4->mediapipe) (1.17.1)\n",
            "Requirement already satisfied: ml-dtypes>=0.2.0 in /usr/local/lib/python3.11/dist-packages (from jax->mediapipe) (0.4.1)\n",
            "Requirement already satisfied: opt-einsum in /usr/local/lib/python3.11/dist-packages (from jax->mediapipe) (3.4.0)\n",
            "Requirement already satisfied: scipy>=1.10 in /usr/local/lib/python3.11/dist-packages (from jax->mediapipe) (1.13.1)\n",
            "Requirement already satisfied: contourpy>=1.0.1 in /usr/local/lib/python3.11/dist-packages (from matplotlib->mediapipe) (1.3.1)\n",
            "Requirement already satisfied: cycler>=0.10 in /usr/local/lib/python3.11/dist-packages (from matplotlib->mediapipe) (0.12.1)\n",
            "Requirement already satisfied: fonttools>=4.22.0 in /usr/local/lib/python3.11/dist-packages (from matplotlib->mediapipe) (4.56.0)\n",
            "Requirement already satisfied: kiwisolver>=1.3.1 in /usr/local/lib/python3.11/dist-packages (from matplotlib->mediapipe) (1.4.8)\n",
            "Requirement already satisfied: packaging>=20.0 in /usr/local/lib/python3.11/dist-packages (from matplotlib->mediapipe) (24.2)\n",
            "Requirement already satisfied: pillow>=8 in /usr/local/lib/python3.11/dist-packages (from matplotlib->mediapipe) (11.1.0)\n",
            "Requirement already satisfied: pyparsing>=2.3.1 in /usr/local/lib/python3.11/dist-packages (from matplotlib->mediapipe) (3.2.1)\n",
            "Requirement already satisfied: python-dateutil>=2.7 in /usr/local/lib/python3.11/dist-packages (from matplotlib->mediapipe) (2.8.2)\n",
            "Requirement already satisfied: pycparser in /usr/local/lib/python3.11/dist-packages (from CFFI>=1.0->sounddevice>=0.4.4->mediapipe) (2.22)\n",
            "Requirement already satisfied: six>=1.5 in /usr/local/lib/python3.11/dist-packages (from python-dateutil>=2.7->matplotlib->mediapipe) (1.17.0)\n",
            "Downloading mediapipe-0.10.21-cp311-cp311-manylinux_2_28_x86_64.whl (35.6 MB)\n",
            "\u001b[2K   \u001b[90m━━━━━━━━━━━━━━━━━━━━━━━━━━━━━━━━━━━━━━━━\u001b[0m \u001b[32m35.6/35.6 MB\u001b[0m \u001b[31m52.5 MB/s\u001b[0m eta \u001b[36m0:00:00\u001b[0m\n",
            "\u001b[?25hDownloading sounddevice-0.5.1-py3-none-any.whl (32 kB)\n",
            "Installing collected packages: sounddevice, mediapipe\n",
            "Successfully installed mediapipe-0.10.21 sounddevice-0.5.1\n"
          ]
        }
      ]
    },
    {
      "cell_type": "code",
      "execution_count": 11,
      "metadata": {
        "colab": {
          "resources": {
            "http://localhost:8080/content/Osad3eny_HellMakers.Com.mp3": {
              "data": "",
              "ok": false,
              "headers": [
                [
                  "content-length",
                  "0"
                ]
              ],
              "status": 404,
              "status_text": ""
            }
          },
          "base_uri": "https://localhost:8080/",
          "height": 761,
          "referenced_widgets": [
            "8a70cfea53484429852c42675a630b84",
            "ddb72f3006444a66bbcdd23767336afa",
            "cf5e02826ab3423b86bd42942226b15c",
            "40808a443a7b4c4caa229294be3123c6",
            "40871e0235de413ca44df5ba02c78974",
            "fe1424655fef404ebcd2c8cad996377c",
            "4f93f2b169564a6ebc7e21411c19b8f1",
            "5d1d7c6034254d0295ddc65ae6ececba",
            "f182f09dbefc48038ac3c7dda364db46",
            "cfcaa0fb2863477e86287a13f0567a96"
          ]
        },
        "id": "JapvlbL9nEHn",
        "outputId": "1a00f4c2-9c27-4660-eeb1-304440e21308"
      },
      "outputs": [
        {
          "output_type": "display_data",
          "data": {
            "text/plain": [
              "HTML(value='\\n<audio id=\"audioPlayer\" src=\"/content/Osad3eny_HellMakers.Com.mp3\" loop controls style=\"width:10…"
            ],
            "application/vnd.jupyter.widget-view+json": {
              "version_major": 2,
              "version_minor": 0,
              "model_id": "8a70cfea53484429852c42675a630b84"
            }
          },
          "metadata": {}
        },
        {
          "output_type": "display_data",
          "data": {
            "text/plain": [
              "Button(description='Start Audio (Click Me)', style=ButtonStyle())"
            ],
            "application/vnd.jupyter.widget-view+json": {
              "version_major": 2,
              "version_minor": 0,
              "model_id": "40808a443a7b4c4caa229294be3123c6"
            }
          },
          "metadata": {}
        },
        {
          "output_type": "display_data",
          "data": {
            "text/plain": [
              "Image(value=b'', format='jpeg')"
            ],
            "application/vnd.jupyter.widget-view+json": {
              "version_major": 2,
              "version_minor": 0,
              "model_id": "4f93f2b169564a6ebc7e21411c19b8f1"
            }
          },
          "metadata": {}
        },
        {
          "output_type": "display_data",
          "data": {
            "text/plain": [
              "Output()"
            ],
            "application/vnd.jupyter.widget-view+json": {
              "version_major": 2,
              "version_minor": 0,
              "model_id": "f182f09dbefc48038ac3c7dda364db46"
            }
          },
          "metadata": {}
        },
        {
          "output_type": "stream",
          "name": "stdout",
          "text": [
            "Stream ended or no frame captured.\n",
            "Processing complete.\n"
          ]
        }
      ],
      "source": [
        "import cv2\n",
        "import mediapipe as mp\n",
        "import numpy as np\n",
        "import math\n",
        "import time\n",
        "import ipywidgets as widgets\n",
        "from IPython.display import display, Javascript\n",
        "\n",
        "# -----------------------------\n",
        "# Set Your File Paths\n",
        "# -----------------------------\n",
        "audio_path = \"/content/Osad3eny_HellMakers.Com.mp3\"  # Replace with your audio file path\n",
        "video_path = \"/content/volume3.18_30c4f49c.mp4\"        # Replace with your video file path (or use 0 for webcam)\n",
        "\n",
        "# -----------------------------\n",
        "# MediaPipe Hands Setup\n",
        "# -----------------------------\n",
        "mp_hands = mp.solutions.hands\n",
        "hands = mp_hands.Hands(max_num_hands=1,\n",
        "                       min_detection_confidence=0.7,\n",
        "                       min_tracking_confidence=0.7)\n",
        "mp_draw = mp.solutions.drawing_utils\n",
        "\n",
        "# -----------------------------\n",
        "# Helper Function: Map Distance to Volume\n",
        "# -----------------------------\n",
        "def map_distance_to_volume(distance, min_d=30, max_d=200):\n",
        "    \"\"\"\n",
        "    Map the Euclidean distance (in pixels) between thumb and index finger\n",
        "    to a volume percentage (0-100).\n",
        "    \"\"\"\n",
        "    volume = np.interp(distance, [min_d, max_d], [0, 100])\n",
        "    return int(volume)\n",
        "\n",
        "# -----------------------------\n",
        "# Setup Widgets for Output in Colab\n",
        "# -----------------------------\n",
        "# HTML Audio Element: auto-loops and has controls.\n",
        "# Audio playback requires a user gesture, so a start button is provided.\n",
        "audio_widget = widgets.HTML(value=f\"\"\"\n",
        "<audio id=\"audioPlayer\" src=\"{audio_path}\" loop controls style=\"width:100%;\">\n",
        "Your browser does not support the audio element.\n",
        "</audio>\n",
        "\"\"\")\n",
        "display(audio_widget)\n",
        "\n",
        "# Button to start the audio (click this to enable playback)\n",
        "start_button = widgets.Button(description=\"Start Audio (Click Me)\")\n",
        "def on_start_button_clicked(b):\n",
        "    display(Javascript(\"document.getElementById('audioPlayer').play();\"))\n",
        "    start_button.layout.visibility = 'hidden'\n",
        "    print(\"Audio playback started!\")\n",
        "start_button.on_click(on_start_button_clicked)\n",
        "display(start_button)\n",
        "\n",
        "# Video output widget.\n",
        "video_widget = widgets.Image(format='jpeg')\n",
        "display(video_widget)\n",
        "\n",
        "# Widget for running JavaScript (to update the audio element's volume)\n",
        "js_output = widgets.Output()\n",
        "display(js_output)\n",
        "\n",
        "# -----------------------------\n",
        "# Video Capture Setup\n",
        "# -----------------------------\n",
        "cap = cv2.VideoCapture(video_path)  # Use video_path; change to 0 for webcam if needed\n",
        "\n",
        "# Set desired output resolution (reduced width for faster processing)\n",
        "desired_width = 400\n",
        "desired_height = 600\n",
        "\n",
        "# -----------------------------\n",
        "# Main Processing Loop\n",
        "# -----------------------------\n",
        "while cap.isOpened():\n",
        "    ret, frame = cap.read()\n",
        "    if not ret:\n",
        "        print(\"Stream ended or no frame captured.\")\n",
        "        break\n",
        "\n",
        "    # Resize frame to desired resolution and flip for a mirror view.\n",
        "    frame = cv2.resize(frame, (desired_width, desired_height))\n",
        "    frame = cv2.flip(frame, 1)\n",
        "\n",
        "    # Convert frame for MediaPipe processing.\n",
        "    frame_rgb = cv2.cvtColor(frame, cv2.COLOR_BGR2RGB)\n",
        "    results = hands.process(frame_rgb)\n",
        "    h, w, _ = frame.shape\n",
        "\n",
        "    if results.multi_hand_landmarks:\n",
        "        for hand_landmarks in results.multi_hand_landmarks:\n",
        "            # Draw hand landmarks for visual feedback.\n",
        "            mp_draw.draw_landmarks(frame, hand_landmarks, mp_hands.HAND_CONNECTIONS)\n",
        "            landmarks = hand_landmarks.landmark\n",
        "\n",
        "            # Get thumb tip (landmark 4) and index finger tip (landmark 8) coordinates.\n",
        "            x_thumb, y_thumb = int(landmarks[4].x * w), int(landmarks[4].y * h)\n",
        "            x_index, y_index = int(landmarks[8].x * w), int(landmarks[8].y * h)\n",
        "\n",
        "            # Draw blue circles at the finger tips and a connecting line.\n",
        "            cv2.circle(frame, (x_thumb, y_thumb), 5, (255, 0, 0), -1)\n",
        "            cv2.circle(frame, (x_index, y_index), 5, (255, 0, 0), -1)\n",
        "            cv2.line(frame, (x_thumb, y_thumb), (x_index, y_index), (255, 0, 0), 2)\n",
        "\n",
        "            # Calculate the Euclidean distance and map it to volume.\n",
        "            distance = math.hypot(x_index - x_thumb, y_index - y_thumb)\n",
        "            volume = map_distance_to_volume(distance)\n",
        "\n",
        "            # Overlay the current volume percentage on the video frame.\n",
        "            cv2.putText(frame, f'Volume: {volume}%', (10, 20),\n",
        "                        cv2.FONT_HERSHEY_SIMPLEX, 0.6, (0, 0, 255), 2)\n",
        "\n",
        "            # Update the HTML audio element's volume via JavaScript.\n",
        "            # Volume values range between 0.0 and 1.0.\n",
        "            js_code = f\"document.getElementById('audioPlayer').volume = {volume/100.0};\"\n",
        "            with js_output:\n",
        "                js_output.clear_output(wait=True)\n",
        "                display(Javascript(js_code))\n",
        "\n",
        "    # Encode the processed frame as JPEG and update the video widget.\n",
        "    ret2, buffer = cv2.imencode('.jpg', frame)\n",
        "    if ret2:\n",
        "        video_widget.value = buffer.tobytes()\n",
        "\n",
        "    # Short delay for smoother updating.\n",
        "    time.sleep(0.001)\n",
        "\n",
        "cap.release()\n",
        "print(\"Processing complete.\")\n"
      ]
    }
  ]
}